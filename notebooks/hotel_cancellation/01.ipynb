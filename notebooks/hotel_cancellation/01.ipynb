{
 "cells": [
  {
   "cell_type": "code",
   "execution_count": 1,
   "id": "a5e87503-1a22-4144-8ce5-0c9c37220c50",
   "metadata": {},
   "outputs": [],
   "source": [
    "import pandas as pd"
   ]
  },
  {
   "cell_type": "code",
   "execution_count": 2,
   "id": "505d5b7f-a96f-4859-9de7-416fbc841769",
   "metadata": {},
   "outputs": [],
   "source": [
    "hotels = pd.read_csv(\"../../data/hotel_cancellation/hotel_bookings.csv\")"
   ]
  },
  {
   "cell_type": "code",
   "execution_count": 3,
   "id": "933da963-a935-4699-876e-736d80acdf14",
   "metadata": {},
   "outputs": [
    {
     "data": {
      "text/html": [
       "<div>\n",
       "<style scoped>\n",
       "    .dataframe tbody tr th:only-of-type {\n",
       "        vertical-align: middle;\n",
       "    }\n",
       "\n",
       "    .dataframe tbody tr th {\n",
       "        vertical-align: top;\n",
       "    }\n",
       "\n",
       "    .dataframe thead th {\n",
       "        text-align: right;\n",
       "    }\n",
       "</style>\n",
       "<table border=\"1\" class=\"dataframe\">\n",
       "  <thead>\n",
       "    <tr style=\"text-align: right;\">\n",
       "      <th></th>\n",
       "      <th>hotel</th>\n",
       "      <th>is_canceled</th>\n",
       "      <th>lead_time</th>\n",
       "      <th>arrival_date_year</th>\n",
       "      <th>arrival_date_month</th>\n",
       "      <th>arrival_date_week_number</th>\n",
       "      <th>arrival_date_day_of_month</th>\n",
       "      <th>stays_in_weekend_nights</th>\n",
       "      <th>stays_in_week_nights</th>\n",
       "      <th>adults</th>\n",
       "      <th>...</th>\n",
       "      <th>deposit_type</th>\n",
       "      <th>agent</th>\n",
       "      <th>company</th>\n",
       "      <th>days_in_waiting_list</th>\n",
       "      <th>customer_type</th>\n",
       "      <th>adr</th>\n",
       "      <th>required_car_parking_spaces</th>\n",
       "      <th>total_of_special_requests</th>\n",
       "      <th>reservation_status</th>\n",
       "      <th>reservation_status_date</th>\n",
       "    </tr>\n",
       "  </thead>\n",
       "  <tbody>\n",
       "    <tr>\n",
       "      <th>0</th>\n",
       "      <td>Resort Hotel</td>\n",
       "      <td>0</td>\n",
       "      <td>342</td>\n",
       "      <td>2015</td>\n",
       "      <td>July</td>\n",
       "      <td>27</td>\n",
       "      <td>1</td>\n",
       "      <td>0</td>\n",
       "      <td>0</td>\n",
       "      <td>2</td>\n",
       "      <td>...</td>\n",
       "      <td>No Deposit</td>\n",
       "      <td>NaN</td>\n",
       "      <td>NaN</td>\n",
       "      <td>0</td>\n",
       "      <td>Transient</td>\n",
       "      <td>0.0</td>\n",
       "      <td>0</td>\n",
       "      <td>0</td>\n",
       "      <td>Check-Out</td>\n",
       "      <td>2015-07-01</td>\n",
       "    </tr>\n",
       "    <tr>\n",
       "      <th>1</th>\n",
       "      <td>Resort Hotel</td>\n",
       "      <td>0</td>\n",
       "      <td>737</td>\n",
       "      <td>2015</td>\n",
       "      <td>July</td>\n",
       "      <td>27</td>\n",
       "      <td>1</td>\n",
       "      <td>0</td>\n",
       "      <td>0</td>\n",
       "      <td>2</td>\n",
       "      <td>...</td>\n",
       "      <td>No Deposit</td>\n",
       "      <td>NaN</td>\n",
       "      <td>NaN</td>\n",
       "      <td>0</td>\n",
       "      <td>Transient</td>\n",
       "      <td>0.0</td>\n",
       "      <td>0</td>\n",
       "      <td>0</td>\n",
       "      <td>Check-Out</td>\n",
       "      <td>2015-07-01</td>\n",
       "    </tr>\n",
       "  </tbody>\n",
       "</table>\n",
       "<p>2 rows × 32 columns</p>\n",
       "</div>"
      ],
      "text/plain": [
       "          hotel  is_canceled  lead_time  arrival_date_year arrival_date_month  \\\n",
       "0  Resort Hotel            0        342               2015               July   \n",
       "1  Resort Hotel            0        737               2015               July   \n",
       "\n",
       "   arrival_date_week_number  arrival_date_day_of_month  \\\n",
       "0                        27                          1   \n",
       "1                        27                          1   \n",
       "\n",
       "   stays_in_weekend_nights  stays_in_week_nights  adults  ...  deposit_type  \\\n",
       "0                        0                     0       2  ...    No Deposit   \n",
       "1                        0                     0       2  ...    No Deposit   \n",
       "\n",
       "   agent company days_in_waiting_list customer_type  adr  \\\n",
       "0    NaN     NaN                    0     Transient  0.0   \n",
       "1    NaN     NaN                    0     Transient  0.0   \n",
       "\n",
       "   required_car_parking_spaces  total_of_special_requests  reservation_status  \\\n",
       "0                            0                          0           Check-Out   \n",
       "1                            0                          0           Check-Out   \n",
       "\n",
       "  reservation_status_date  \n",
       "0              2015-07-01  \n",
       "1              2015-07-01  \n",
       "\n",
       "[2 rows x 32 columns]"
      ]
     },
     "execution_count": 3,
     "metadata": {},
     "output_type": "execute_result"
    }
   ],
   "source": [
    "hotels.head(2)"
   ]
  },
  {
   "cell_type": "code",
   "execution_count": 4,
   "id": "2851bfeb-e24b-472b-a05a-81cc055b3206",
   "metadata": {},
   "outputs": [
    {
     "data": {
      "text/plain": [
       "Index(['hotel', 'is_canceled', 'lead_time', 'arrival_date_year',\n",
       "       'arrival_date_month', 'arrival_date_week_number',\n",
       "       'arrival_date_day_of_month', 'stays_in_weekend_nights',\n",
       "       'stays_in_week_nights', 'adults', 'children', 'babies', 'meal',\n",
       "       'country', 'market_segment', 'distribution_channel',\n",
       "       'is_repeated_guest', 'previous_cancellations',\n",
       "       'previous_bookings_not_canceled', 'reserved_room_type',\n",
       "       'assigned_room_type', 'booking_changes', 'deposit_type', 'agent',\n",
       "       'company', 'days_in_waiting_list', 'customer_type', 'adr',\n",
       "       'required_car_parking_spaces', 'total_of_special_requests',\n",
       "       'reservation_status', 'reservation_status_date'],\n",
       "      dtype='object')"
      ]
     },
     "execution_count": 4,
     "metadata": {},
     "output_type": "execute_result"
    }
   ],
   "source": [
    "hotels.columns"
   ]
  },
  {
   "cell_type": "code",
   "execution_count": 5,
   "id": "923f9933-f4a5-4d84-9be1-8930640b4b15",
   "metadata": {},
   "outputs": [],
   "source": [
    "def series_to_map(df,col_name):\n",
    "    return {k:v for k,v in zip(df[col_name].unique(),range(len(df[col_name].unique())))}"
   ]
  },
  {
   "cell_type": "code",
   "execution_count": 6,
   "id": "947a0665-6b0f-4857-adc6-616297526fcc",
   "metadata": {},
   "outputs": [],
   "source": [
    "hotels['country']=hotels['country'].fillna(\"unknown\")"
   ]
  },
  {
   "cell_type": "code",
   "execution_count": 7,
   "id": "d88fd5d7-5a9d-4fe5-b0c6-710ee105ca7a",
   "metadata": {},
   "outputs": [],
   "source": [
    "hotel_type_map = series_to_map(hotels,'hotel')\n",
    "customer_type_map = series_to_map(hotels,'customer_type')\n",
    "meal_map = series_to_map(hotels,'meal')\n",
    "country_map = series_to_map(hotels,'country')\n",
    "market_seg_map = series_to_map(hotels,'market_segment')\n",
    "dist_map = series_to_map(hotels,'distribution_channel')\n",
    "reserved_map = series_to_map(hotels,'reserved_room_type')\n",
    "assigned_map = series_to_map(hotels,'assigned_room_type')\n",
    "deposit_map = series_to_map(hotels,'deposit_type')\n",
    "reseve_status_map = series_to_map(hotels,'reservation_status')"
   ]
  },
  {
   "cell_type": "code",
   "execution_count": 8,
   "id": "93a2cada-410e-45c7-bd86-6c1c7126b9bd",
   "metadata": {},
   "outputs": [],
   "source": [
    "hotels['hotel'] = hotels['hotel'].map(hotel_type_map)\n",
    "hotels['customer_type'] = hotels['customer_type'].map(customer_type_map)\n",
    "hotels['meal'] = hotels['meal'].map(meal_map)\n",
    "hotels['country'] = hotels['country'].map(country_map)\n",
    "hotels['market_segment'] = hotels['market_segment'].map(market_seg_map)\n",
    "hotels['distribution_channel'] = hotels['distribution_channel'].map(dist_map)\n",
    "hotels['reserved_room_type'] = hotels['reserved_room_type'].map(reserved_map)\n",
    "hotels['assigned_room_type'] = hotels['assigned_room_type'].map(assigned_map)\n",
    "hotels['deposit_type'] = hotels['deposit_type'].map(deposit_map)\n",
    "hotels['reservation_status'] = hotels['reservation_status'].map(reseve_status_map)"
   ]
  },
  {
   "cell_type": "code",
   "execution_count": 9,
   "id": "b154ea1e-820e-46a8-bb84-55859b49baa7",
   "metadata": {},
   "outputs": [],
   "source": [
    "import json\n",
    "with open(\"../../data/hotel_cancellation/hotel.json\",'w') as f:\n",
    "    json.dump(hotel_type_map, f, sort_keys = True, indent = 4)\n",
    "with open(\"../../data/hotel_cancellation/customer_type.json\",'w') as f:\n",
    "    json.dump(customer_type_map, f, sort_keys = True, indent = 4)\n",
    "with open(\"../../data/hotel_cancellation/meal.json\",'w') as f:\n",
    "    json.dump(meal_map, f, sort_keys = True, indent = 4)\n",
    "with open(\"../../data/hotel_cancellation/country.json\",'w') as f:\n",
    "    json.dump(country_map, f, sort_keys = True, indent = 4)\n",
    "with open(\"../../data/hotel_cancellation/market_segment.json\",'w') as f:\n",
    "    json.dump(market_seg_map, f, sort_keys = True, indent = 4)\n",
    "with open(\"../../data/hotel_cancellation/distribution_channel.json\",'w') as f:\n",
    "    json.dump(dist_map, f, sort_keys = True, indent = 4)\n",
    "with open(\"../../data/hotel_cancellation/reserved_room_type.json\",'w') as f:\n",
    "    json.dump(reserved_map, f, sort_keys = True, indent = 4)\n",
    "with open(\"../../data/hotel_cancellation/assigned_room_type.json\",'w') as f:\n",
    "    json.dump(assigned_map, f, sort_keys = True, indent = 4)\n",
    "with open(\"../../data/hotel_cancellation/deposit_type.json\",'w') as f:\n",
    "    json.dump(deposit_map, f, sort_keys = True, indent = 4)\n",
    "with open(\"../../data/hotel_cancellation/reservation_status.json\",'w') as f:\n",
    "    json.dump(reseve_status_map, f, sort_keys = True, indent = 4)"
   ]
  },
  {
   "cell_type": "code",
   "execution_count": 10,
   "id": "a77bea2d-8a03-4e6c-b73e-3a9e305dd6a0",
   "metadata": {},
   "outputs": [
    {
     "data": {
      "text/html": [
       "<div>\n",
       "<style scoped>\n",
       "    .dataframe tbody tr th:only-of-type {\n",
       "        vertical-align: middle;\n",
       "    }\n",
       "\n",
       "    .dataframe tbody tr th {\n",
       "        vertical-align: top;\n",
       "    }\n",
       "\n",
       "    .dataframe thead th {\n",
       "        text-align: right;\n",
       "    }\n",
       "</style>\n",
       "<table border=\"1\" class=\"dataframe\">\n",
       "  <thead>\n",
       "    <tr style=\"text-align: right;\">\n",
       "      <th></th>\n",
       "      <th>hotel</th>\n",
       "      <th>is_canceled</th>\n",
       "      <th>lead_time</th>\n",
       "      <th>arrival_date_year</th>\n",
       "      <th>arrival_date_month</th>\n",
       "      <th>arrival_date_week_number</th>\n",
       "      <th>arrival_date_day_of_month</th>\n",
       "      <th>stays_in_weekend_nights</th>\n",
       "      <th>stays_in_week_nights</th>\n",
       "      <th>adults</th>\n",
       "      <th>...</th>\n",
       "      <th>deposit_type</th>\n",
       "      <th>agent</th>\n",
       "      <th>company</th>\n",
       "      <th>days_in_waiting_list</th>\n",
       "      <th>customer_type</th>\n",
       "      <th>adr</th>\n",
       "      <th>required_car_parking_spaces</th>\n",
       "      <th>total_of_special_requests</th>\n",
       "      <th>reservation_status</th>\n",
       "      <th>reservation_status_date</th>\n",
       "    </tr>\n",
       "  </thead>\n",
       "  <tbody>\n",
       "    <tr>\n",
       "      <th>0</th>\n",
       "      <td>0</td>\n",
       "      <td>0</td>\n",
       "      <td>342</td>\n",
       "      <td>2015</td>\n",
       "      <td>July</td>\n",
       "      <td>27</td>\n",
       "      <td>1</td>\n",
       "      <td>0</td>\n",
       "      <td>0</td>\n",
       "      <td>2</td>\n",
       "      <td>...</td>\n",
       "      <td>0</td>\n",
       "      <td>NaN</td>\n",
       "      <td>NaN</td>\n",
       "      <td>0</td>\n",
       "      <td>0</td>\n",
       "      <td>0.0</td>\n",
       "      <td>0</td>\n",
       "      <td>0</td>\n",
       "      <td>0</td>\n",
       "      <td>2015-07-01</td>\n",
       "    </tr>\n",
       "    <tr>\n",
       "      <th>1</th>\n",
       "      <td>0</td>\n",
       "      <td>0</td>\n",
       "      <td>737</td>\n",
       "      <td>2015</td>\n",
       "      <td>July</td>\n",
       "      <td>27</td>\n",
       "      <td>1</td>\n",
       "      <td>0</td>\n",
       "      <td>0</td>\n",
       "      <td>2</td>\n",
       "      <td>...</td>\n",
       "      <td>0</td>\n",
       "      <td>NaN</td>\n",
       "      <td>NaN</td>\n",
       "      <td>0</td>\n",
       "      <td>0</td>\n",
       "      <td>0.0</td>\n",
       "      <td>0</td>\n",
       "      <td>0</td>\n",
       "      <td>0</td>\n",
       "      <td>2015-07-01</td>\n",
       "    </tr>\n",
       "  </tbody>\n",
       "</table>\n",
       "<p>2 rows × 32 columns</p>\n",
       "</div>"
      ],
      "text/plain": [
       "   hotel  is_canceled  lead_time  arrival_date_year arrival_date_month  \\\n",
       "0      0            0        342               2015               July   \n",
       "1      0            0        737               2015               July   \n",
       "\n",
       "   arrival_date_week_number  arrival_date_day_of_month  \\\n",
       "0                        27                          1   \n",
       "1                        27                          1   \n",
       "\n",
       "   stays_in_weekend_nights  stays_in_week_nights  adults  ...  deposit_type  \\\n",
       "0                        0                     0       2  ...             0   \n",
       "1                        0                     0       2  ...             0   \n",
       "\n",
       "   agent  company  days_in_waiting_list  customer_type  adr  \\\n",
       "0    NaN      NaN                     0              0  0.0   \n",
       "1    NaN      NaN                     0              0  0.0   \n",
       "\n",
       "   required_car_parking_spaces  total_of_special_requests  reservation_status  \\\n",
       "0                            0                          0                   0   \n",
       "1                            0                          0                   0   \n",
       "\n",
       "   reservation_status_date  \n",
       "0               2015-07-01  \n",
       "1               2015-07-01  \n",
       "\n",
       "[2 rows x 32 columns]"
      ]
     },
     "execution_count": 10,
     "metadata": {},
     "output_type": "execute_result"
    }
   ],
   "source": [
    "hotels.head(2)"
   ]
  },
  {
   "cell_type": "code",
   "execution_count": 12,
   "id": "c6c22ad5-92ad-4272-a882-ac512d593556",
   "metadata": {},
   "outputs": [],
   "source": [
    "hotels.to_csv(\"../../data/hotel_cancellation/booking_cancellations.csv\",index=False)"
   ]
  },
  {
   "cell_type": "code",
   "execution_count": 4,
   "id": "9e335737-9a0a-4af4-a851-f2622ae51516",
   "metadata": {},
   "outputs": [
    {
     "data": {
      "text/plain": [
       "(119390, 32)"
      ]
     },
     "execution_count": 4,
     "metadata": {},
     "output_type": "execute_result"
    }
   ],
   "source": [
    "hotels.shape"
   ]
  },
  {
   "cell_type": "code",
   "execution_count": null,
   "id": "a2816611-c400-4cf6-a587-7552aad3163c",
   "metadata": {},
   "outputs": [],
   "source": []
  }
 ],
 "metadata": {
  "kernelspec": {
   "display_name": "Python 3 (ipykernel)",
   "language": "python",
   "name": "python3"
  },
  "language_info": {
   "codemirror_mode": {
    "name": "ipython",
    "version": 3
   },
   "file_extension": ".py",
   "mimetype": "text/x-python",
   "name": "python",
   "nbconvert_exporter": "python",
   "pygments_lexer": "ipython3",
   "version": "3.9.13"
  }
 },
 "nbformat": 4,
 "nbformat_minor": 5
}
